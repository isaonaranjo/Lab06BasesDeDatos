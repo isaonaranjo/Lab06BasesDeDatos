{
 "cells": [
  {
   "cell_type": "code",
   "execution_count": 22,
   "metadata": {},
   "outputs": [],
   "source": [
    "#Laboratorio 6\n",
    "\n",
    "# Isabel Ortíz 18176"
   ]
  },
  {
   "cell_type": "code",
   "execution_count": 23,
   "metadata": {},
   "outputs": [],
   "source": [
    "%reload_ext sql"
   ]
  },
  {
   "cell_type": "code",
   "execution_count": 24,
   "metadata": {},
   "outputs": [
    {
     "data": {
      "text/plain": [
       "'Connected: @lab6.db'"
      ]
     },
     "execution_count": 24,
     "metadata": {},
     "output_type": "execute_result"
    }
   ],
   "source": [
    "%sql sqlite:///lab6.db"
   ]
  },
  {
   "cell_type": "code",
   "execution_count": 25,
   "metadata": {},
   "outputs": [
    {
     "name": "stdout",
     "output_type": "stream",
     "text": [
      " * sqlite:///lab6.db\n",
      "Done.\n"
     ]
    },
    {
     "data": {
      "text/plain": [
       "[]"
      ]
     },
     "execution_count": 25,
     "metadata": {},
     "output_type": "execute_result"
    }
   ],
   "source": [
    "%sql pragma foreign_keys = on;"
   ]
  },
  {
   "cell_type": "code",
   "execution_count": 26,
   "metadata": {},
   "outputs": [
    {
     "name": "stdout",
     "output_type": "stream",
     "text": [
      " * sqlite:///lab6.db\n",
      "Done.\n",
      "Done.\n",
      "Done.\n",
      "Done.\n",
      "Done.\n",
      "Done.\n",
      "Done.\n",
      "Done.\n"
     ]
    },
    {
     "data": {
      "text/plain": [
       "[]"
      ]
     },
     "execution_count": 26,
     "metadata": {},
     "output_type": "execute_result"
    }
   ],
   "source": [
    "%%sql \n",
    "DROP TABLE IF EXISTS empleado;\n",
    "DROP TABLE IF EXISTS jefe;\n",
    "DROP TABLE IF EXISTS aplicación;\n",
    "DROP TABLE IF EXISTS cliente;\n",
    "DROP TABLE IF EXISTS tienda;\n",
    "DROP TABLE IF EXISTS gasolinera;\n",
    "DROP TABLE IF EXISTS pais;\n",
    "DROP TABLE IF EXISTS tienda;"
   ]
  },
  {
   "cell_type": "code",
   "execution_count": 40,
   "metadata": {},
   "outputs": [
    {
     "name": "stdout",
     "output_type": "stream",
     "text": [
      " * sqlite:///lab6.db\n",
      "Done.\n",
      "Done.\n",
      "Done.\n",
      "Done.\n",
      "Done.\n",
      "Done.\n",
      "Done.\n",
      "Done.\n",
      "Done.\n",
      "Done.\n",
      "Done.\n",
      "Done.\n",
      "Done.\n",
      "Done.\n"
     ]
    },
    {
     "data": {
      "text/plain": [
       "[]"
      ]
     },
     "execution_count": 40,
     "metadata": {},
     "output_type": "execute_result"
    }
   ],
   "source": [
    "%%sql \n",
    "\n",
    "DROP TABLE IF EXISTS empleado;\n",
    "DROP TABLE IF EXISTS jefe;\n",
    "DROP TABLE IF EXISTS aplicacion;\n",
    "DROP TABLE IF EXISTS cliente;\n",
    "DROP TABLE IF EXISTS tienda;\n",
    "DROP TABLE IF EXISTS gasolinera;\n",
    "DROP TABLE IF EXISTS pais;\n",
    "\n",
    "CREATE TABLE cliente(\n",
    "    nombre VARCHAR (30),\n",
    "    nit VARCHAR (30) PRIMARY KEY,\n",
    "    fecha VARCHAR (30),\n",
    "    apellido VARCHAR (30),\n",
    "    historial VARCHAR (30),\n",
    "    comp VARCHAR (30),\n",
    "    FOREIGN KEY (comp) REFERENCES gasolinera(compra)\n",
    ");\n",
    "\n",
    "CREATE TABLE empleado(\n",
    "    turno VARCHAR (30),\n",
    "    contraseña VARCHAR (30) PRIMARY KEY,\n",
    "    usuario  VARCHAR (30),\n",
    "    nombre VARCHAR (30),\n",
    "    apellido VARCHAR (30),\n",
    "    ing VARCHAR (30),\n",
    "    FOREIGN KEY (ing) REFERENCES jefe(ingreso)\n",
    ");\n",
    "\n",
    "CREATE TABLE aplicacion(\n",
    "    nombre VARCHAR (30),\n",
    "    nit VARCHAR (30) PRIMARY KEY,\n",
    "    fecha VARCHAR (30),\n",
    "    apellido VARCHAR (30),\n",
    "    historial VARCHAR (30),\n",
    "    ing VARCHAR (30),\n",
    "    FOREIGN KEY (ing) REFERENCES jefe(ingreso)\n",
    ");\n",
    "\n",
    "CREATE TABLE jefe(\n",
    "    id VARCHAR (30) PRIMARY KEY,\n",
    "    nombre VARCHAR (30),\n",
    "    apellido VARCHAR (30),\n",
    "    con VARCHAR (30),\n",
    "    FOREIGN KEY (con) REFERENCES empleado(contiene)\n",
    ");\n",
    "\n",
    "CREATE TABLE tienda(\n",
    "    id VARCHAR (30) PRIMARY KEY,\n",
    "    tamaño VARCHAR (30),\n",
    "    com VARCHAR (30),\n",
    "    FOREIGN KEY (com) REFERENCES gasolinera(compra)\n",
    ");\n",
    "\n",
    "CREATE TABLE gasolinera(\n",
    "    nombre VARCHAR (30),\n",
    "    id VARCHAR (30) PRIMARY KEY,\n",
    "    direccion VARCHAR (30),\n",
    "    ubi VARCHAR (30),\n",
    "    FOREIGN KEY (ubi) REFERENCES pais(ubicacion)\n",
    ");\n",
    "\n",
    "CREATE TABLE pais(\n",
    "    id VARCHAR (30) PRIMARY KEY,\n",
    "    nombre VARCHAR (30),\n",
    "    moneda VARCHAR (30),\n",
    "    ubi VARCHAR (30),\n",
    "    FOREIGN KEY (ubi) REFERENCES pais(ubicacion)    \n",
    ");\n",
    "\n"
   ]
  }
 ],
 "metadata": {
  "kernelspec": {
   "display_name": "Python 3",
   "language": "python",
   "name": "python3"
  },
  "language_info": {
   "codemirror_mode": {
    "name": "ipython",
    "version": 3
   },
   "file_extension": ".py",
   "mimetype": "text/x-python",
   "name": "python",
   "nbconvert_exporter": "python",
   "pygments_lexer": "ipython3",
   "version": "3.7.2"
  }
 },
 "nbformat": 4,
 "nbformat_minor": 4
}
